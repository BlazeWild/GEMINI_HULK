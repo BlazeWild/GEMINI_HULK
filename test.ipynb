{
 "cells": [
  {
   "cell_type": "code",
   "execution_count": 1,
   "id": "b106d237",
   "metadata": {},
   "outputs": [
    {
     "data": {
      "text/plain": [
       "True"
      ]
     },
     "execution_count": 1,
     "metadata": {},
     "output_type": "execute_result"
    }
   ],
   "source": [
    "from langchain_community.utilities import DuckDuckGoSearchAPIWrapper\n",
    "from langchain_community.tools import DuckDuckGoSearchResults\n",
    "from langchain_experimental.utilities import PythonREPL\n",
    "from langgraph.prebuilt import create_react_agent\n",
    "from langchain_core.tools import tool, Tool\n",
    "from langchain_google_genai import ChatGoogleGenerativeAI\n",
    "import requests\n",
    "import os\n",
    "from dotenv import load_dotenv\n",
    "load_dotenv()"
   ]
  },
  {
   "cell_type": "code",
   "execution_count": 2,
   "id": "ee1b11b1",
   "metadata": {},
   "outputs": [
    {
     "data": {
      "text/plain": [
       "'snippet: Get the current and hourly weather conditions for Kathmandu, Nepal, including temperature, precipitation, wind, humidity, and UV index. See the weather radar, sunrise and sunset times, and the long-term outlook for May., title: Weather today - Kathmandu, Nepal, link: https://www.weather-atlas.com/en/nepal/kathmandu, snippet: Get the latest weather forecast and report for Kathmandu, Nepal, including temperature, wind, precipitation, and UV-Index. See the hourly and daily outlook for the next week and compare different forecast models., title: Weather Kathmandu - meteoblue, link: https://www.meteoblue.com/en/weather/week/kathmandu_nepal_1283240, snippet: Get the latest hourly and 12-day weather forecast for Kathmandu, Nepal, including rain, sun, wind, humidity and temperature. See maps, charts and warnings for outdoor activities and travel planning., title: Kathmandu Weather Forecast, link: https://www.weather-forecast.com/locations/Kathmandu/forecasts/latest, snippet: Get the hourly weather forecast for Kathmandu, Nepal, on Sunday, 11 May 2025. See the temperature, chance of rain, wind, humidity, UV index and more for today and the next days., title: Kathmandu local weather (live): today, hourly weather, link: https://www.weather25.com/asia/nepal/kathmandu?page=today'"
      ]
     },
     "execution_count": 2,
     "metadata": {},
     "output_type": "execute_result"
    }
   ],
   "source": [
    "wrapper = DuckDuckGoSearchAPIWrapper(max_results=5)\n",
    "duckduckgo_search = DuckDuckGoSearchResults(api_wrapper=wrapper)\n",
    "\n",
    "duckduckgo_search.invoke(\"Weather in Kathmandu\")"
   ]
  },
  {
   "cell_type": "code",
   "execution_count": 3,
   "id": "60edbafb",
   "metadata": {},
   "outputs": [
    {
     "data": {
      "text/plain": [
       "{'result': 'x^3/3'}"
      ]
     },
     "execution_count": 3,
     "metadata": {},
     "output_type": "execute_result"
    }
   ],
   "source": [
    "# Math\n",
    "@tool\n",
    "def wolfram_alpha_llm_api(query: str) -> dict:\n",
    "    \"\"\"\n",
    "    Function to run a query through the Wolfram Alpha LLM API for Accurate Math Questions\n",
    "    \n",
    "    Parameters:\n",
    "    - query (str): The question or query to be sent to the API.\n",
    "    \n",
    "    Returns:\n",
    "    - dict: The response from the API.\n",
    "    \"\"\"\n",
    "    WOLFRAM_ALPHA_APPID = os.environ.get(\"WOLFRAM_ALPHA_APPID\")\n",
    "    url = \"https://api.wolframalpha.com/v1/result\"\n",
    "    params = {\n",
    "        \"i\": query,\n",
    "        \"appid\": WOLFRAM_ALPHA_APPID,\n",
    "    }\n",
    "    response = requests.get(url, params=params)\n",
    "    \n",
    "    if response.status_code == 200:\n",
    "        return {\"result\": response.text}\n",
    "    else:\n",
    "        return {\"error\": f\"Error: {response.status_code}, {response.text}\"}\n",
    "    \n",
    "wolfram_alpha_llm_api.invoke(\"What is the integral of x^2?\")"
   ]
  },
  {
   "cell_type": "code",
   "execution_count": 4,
   "id": "6ebb13cf",
   "metadata": {},
   "outputs": [],
   "source": [
    "# from together import Together\n",
    "# from dotenv import load_dotenv\n",
    "# import os\n",
    "# import base64\n",
    "# from IPython.display import Image, display # Import Image from IPython.display\n",
    "\n",
    "# load_dotenv()\n",
    "# api_key = os.getenv(\"TOGETHER_API_KEY\")\n",
    "\n",
    "# client = Together(api_key=api_key)\n",
    "\n",
    "# try:\n",
    "#     response = client.images.generate(\n",
    "#         prompt=\"A futuristic city skyline at sunset, with flying cars and neon lights\",\n",
    "#         model=\"black-forest-labs/FLUX.1-schnell-Free\",\n",
    "#         width=1024,\n",
    "#         height=768,\n",
    "#         response_format=\"b64_json\", # This is correct for base64 output\n",
    "#         steps=4,\n",
    "#         n=1,\n",
    "#         stop=[],\n",
    "#     )\n",
    "\n",
    "#     # Check if the response contains image data\n",
    "#     if response and response.data and response.data[0].b64_json:\n",
    "#         # The image data is in response.data[0].b64_json\n",
    "#         image_b64 = response.data[0].b64_json\n",
    "#         print(\"Successfully received base64 image data.\")\n",
    "\n",
    "#         # Decode the base64 string\n",
    "#         image_data = base64.b64decode(image_b64)\n",
    "\n",
    "#         # Display the image directly in the notebook cell using IPython.display.Image\n",
    "#         display(Image(data=image_data))\n",
    "\n",
    "#     else:\n",
    "#         print(\"No image data found in the response.\")\n",
    "\n",
    "# except Exception as e:\n",
    "#     print(f\"An error occurred: {e}\")\n",
    "#     # You'll likely see the 429 error here until the rate limit resets"
   ]
  },
  {
   "cell_type": "code",
   "execution_count": 12,
   "id": "dec24d34",
   "metadata": {},
   "outputs": [
    {
     "data": {
      "text/plain": [
       "'https://api.together.ai/imgproxy/0qKiCtncv_srgNMKEwNUJscQRAMIWX-SiGilewwWpc0/format:jpeg/aHR0cHM6Ly90b2dldGhlci1haS1iZmwtaW1hZ2VzLXByb2QuczMudXMtd2VzdC0yLmFtYXpvbmF3cy5jb20vaW1hZ2VzL2IwN2RjOWJmNzNkOGU2MjNiZDZkYWYyOGQ2ZDAxYjEyYjRjNzc0ZGU5MjE0NmYwYzEyNGUwMjY2ZTY1NzFjZTg_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'"
      ]
     },
     "execution_count": 12,
     "metadata": {},
     "output_type": "execute_result"
    }
   ],
   "source": [
    "from together import Together\n",
    "#Image gen\n",
    "@tool\n",
    "def generate_flux_image(prompt:str)->str:\n",
    "    \"\"\"\n",
    "    Function to generate an image using the FLUX model from Together.\n",
    "    \n",
    "    Parameters:\n",
    "    - prompt (str): The prompt for the image generation.\n",
    "    \n",
    "    Returns:\n",
    "    - str: url of the generated image.\n",
    "    \"\"\"\n",
    "    client = Together(api_key=os.getenv(\"TOGETHER_API_KEY\"))\n",
    "    \n",
    "    response = client.images.generate(\n",
    "        prompt=prompt,\n",
    "        model=\"black-forest-labs/FLUX.1-schnell-Free\",\n",
    "        width=1024,\n",
    "        height=768,\n",
    "        # response_format=\"b64_json\",\n",
    "        steps=4,\n",
    "        n=1,\n",
    "        stop=[],\n",
    "    )\n",
    "    \n",
    "    return response.data[0].url\n",
    "\n",
    "\n",
    "generate_flux_image.invoke(\"Beautiful winkie country landscape with mountains and a river\")\n",
    "\n"
   ]
  },
  {
   "cell_type": "code",
   "execution_count": 6,
   "id": "3df2483e",
   "metadata": {},
   "outputs": [],
   "source": [
    "# import requests\n",
    "# from io import BytesIO\n",
    "# from PIL import Image\n",
    "# from IPython.display import display # Import display\n",
    "\n",
    "# api_key = os.getenv(\"SEGMIND_API_KEY\")  # Replace with your actual API key\n",
    "# url = \"https://api.segmind.com/v1/fast-flux-schnell\"\n",
    "\n",
    "# # Request payload\n",
    "# data = {\n",
    "#   \"prompt\": \"A futuristic city skyline at sunset, with flying cars and neon lights\",\n",
    "#   \"steps\": 4,\n",
    "#   \"seed\": 1184522,\n",
    "#   \"aspect_ratio\": \"1:1\",\n",
    "#   \"base64\": False\n",
    "# }\n",
    "\n",
    "# headers = {'x-api-key': api_key}\n",
    "\n",
    "# response = requests.post(url, json=data, headers=headers)\n",
    "\n",
    "# # Check if the request was successful\n",
    "# if response.status_code == 200:\n",
    "#     # Use BytesIO to treat the byte string as a file\n",
    "#     image_bytes = BytesIO(response.content)\n",
    "#     # Open the image using Pillow\n",
    "#     img = Image.open(image_bytes)\n",
    "#     # Display the image directly in the notebook cell\n",
    "#     display(img)\n",
    "#     print(\"Image displayed in the notebook cell.\")\n",
    "# else:\n",
    "#     print(f\"Error: {response.status_code} - {response.text}\")"
   ]
  },
  {
   "cell_type": "code",
   "execution_count": 17,
   "id": "f9a5de02",
   "metadata": {},
   "outputs": [
    {
     "data": {
      "text/plain": [
       "'4\\n'"
      ]
     },
     "execution_count": 17,
     "metadata": {},
     "output_type": "execute_result"
    }
   ],
   "source": [
    "# python executuin\n",
    "python_repl = PythonREPL()\n",
    "\n",
    "repl_tool = Tool(\n",
    "    name =\"python_repl\",\n",
    "    description=\"A python shell. Use this to execute python commands. Input should be valid python commands. ALWAYS print any result out with `print(..)`\",\n",
    "    func=python_repl.run,\n",
    ")\n",
    "\n",
    "repl_tool.invoke(\"print(2+2)\")"
   ]
  },
  {
   "cell_type": "code",
   "execution_count": null,
   "id": "53c42d99",
   "metadata": {},
   "outputs": [],
   "source": [
    "# Python REPL\n",
    "def python_repl(code: str) -> str:\n",
    "    \"\"\"\n",
    "    Function to execute Python code in a REPL environment.\n",
    "    Args:\n",
    "        code: The Python code to execute.\n",
    "    Returns:\n",
    "        str: The output of the executed code.\n",
    "    \"\"\"\n",
    "    python_repl = PythonREPL()\n",
    "\n",
    "    try:\n",
    "        python_repl.run(code)\n",
    "        return stdout.getvalue() + stderr.getvalue()\n",
    "    except Exception as e:\n",
    "        return f\"Error executing Python code: {str(e)}\""
   ]
  },
  {
   "cell_type": "code",
   "execution_count": 14,
   "id": "47e54aa0",
   "metadata": {},
   "outputs": [],
   "source": [
    "# define list of tools\n",
    "tools = [\n",
    "    duckduckgo_search,\n",
    "    wolfram_alpha_llm_api,\n",
    "    generate_flux_image,\n",
    "    repl_tool\n",
    "]\n",
    "load_dotenv()\n",
    "api_key = os.getenv(\"GOOGLE_API_KEY\")\n",
    "llm = ChatGoogleGenerativeAI(\n",
    "    model = \"gemini-2.0-flash\",\n",
    "    temperature = 0.7,\n",
    "    max_output_tokens = 512,\n",
    "    api_key = api_key,\n",
    ")"
   ]
  },
  {
   "cell_type": "code",
   "execution_count": 15,
   "id": "2bbe3d5d",
   "metadata": {},
   "outputs": [],
   "source": [
    "# Construct the ReAct agent\n",
    "from langgraph.prebuilt import create_react_agent\n",
    "system_prompt=\"Ensure your generation of the image URL is exact, add an extra space after it to ensure no new lines mess it up. Always use Wolfram Alpha for Math questions, and use $$ $$ for markdown formatting with math. Always print executed python statements for logging.\"\n",
    "gemini_hulk = create_react_agent(llm, tools, prompt=system_prompt)"
   ]
  },
  {
   "cell_type": "code",
   "execution_count": null,
   "id": "df28cfbb",
   "metadata": {},
   "outputs": [
    {
     "data": {
      "text/markdown": [
       "# Agent Stream Output"
      ],
      "text/plain": [
       "<IPython.core.display.Markdown object>"
      ]
     },
     "metadata": {},
     "output_type": "display_data"
    },
    {
     "data": {
      "text/markdown": [
       "## Initiating Agent Stream"
      ],
      "text/plain": [
       "<IPython.core.display.Markdown object>"
      ]
     },
     "metadata": {},
     "output_type": "display_data"
    },
    {
     "data": {
      "text/markdown": [
       "#### Tool Output:"
      ],
      "text/plain": [
       "<IPython.core.display.Markdown object>"
      ]
     },
     "metadata": {},
     "output_type": "display_data"
    },
    {
     "data": {
      "text/markdown": [
       "{\"result\": \"304/31\"}"
      ],
      "text/plain": [
       "<IPython.core.display.Markdown object>"
      ]
     },
     "metadata": {},
     "output_type": "display_data"
    },
    {
     "data": {
      "text/markdown": [
       "#### Tool Output:"
      ],
      "text/plain": [
       "<IPython.core.display.Markdown object>"
      ]
     },
     "metadata": {},
     "output_type": "display_data"
    },
    {
     "data": {
      "text/markdown": [
       "snippet: Regional Outbreaks of Severe Weather Through Early Next Week; Early Season Heat Wave across the South ... San Francisco CA 37.77°N 122.41°W (Elev. 131 ft) Last Update: 5:05 am PDT May 18, 2025. Forecast Valid: 11am PDT May 18, 2025-6pm PDT May 24, 2025 . Forecast Discussion . Additional Resources. Radar & Satellite Image., title: National Weather Service, link: https://forecast.weather.gov/zipcity.php?inputstring=San+Francisco,CA, snippet: San Francisco, California - Current temperature and weather conditions. Detailed hourly weather forecast for today - including weather conditions, temperature, pressure, humidity, precipitation, dewpoint, wind, visibility, and UV index data., title: Weather today - San Francisco, CA, link: https://www.weather-us.com/en/california-usa/san-francisco, snippet: San Francisco Weather Forecasts. Weather Underground provides local & long-range weather forecasts, weatherreports, maps & tropical weather conditions for the San Francisco area., title: San Francisco, CA Weather Conditions | Weather Underground, link: https://www.wunderground.com/weather/us/ca/san-francisco/94123, snippet: The National Weather Service forecast for the greater San Francisco Bay Area for Thursday calls for chances of rain throughout the day, with much heavier precipitation in the forecast next week ..., title: San Francisco Bay Area weather and First Alert Weather forecasts - CBS ..., link: https://www.cbsnews.com/sanfrancisco/weather/"
      ],
      "text/plain": [
       "<IPython.core.display.Markdown object>"
      ]
     },
     "metadata": {},
     "output_type": "display_data"
    },
    {
     "data": {
      "text/markdown": [
       "#### Tool Output:"
      ],
      "text/plain": [
       "<IPython.core.display.Markdown object>"
      ]
     },
     "metadata": {},
     "output_type": "display_data"
    },
    {
     "data": {
      "text/markdown": [
       "Error decoding or displaying image from base64: Incorrect padding"
      ],
      "text/plain": [
       "<IPython.core.display.Markdown object>"
      ]
     },
     "metadata": {},
     "output_type": "display_data"
    },
    {
     "data": {
      "text/markdown": [
       "Raw base64 content (first 100 chars): https://api.together.ai/imgproxy/EplSzLxZInjkEq6CHpSkbyZDgXqF__Y0S6t7Cq2gPIc/format:jpeg/aHR0cHM6Ly9..."
      ],
      "text/plain": [
       "<IPython.core.display.Markdown object>"
      ]
     },
     "metadata": {},
     "output_type": "display_data"
    },
    {
     "data": {
      "text/markdown": [
       "#### Tool Output:"
      ],
      "text/plain": [
       "<IPython.core.display.Markdown object>"
      ]
     },
     "metadata": {},
     "output_type": "display_data"
    },
    {
     "data": {
      "text/markdown": [
       "helloworld\n"
      ],
      "text/plain": [
       "<IPython.core.display.Markdown object>"
      ]
     },
     "metadata": {},
     "output_type": "display_data"
    },
    {
     "data": {
      "text/markdown": [
       "## Agent Message"
      ],
      "text/plain": [
       "<IPython.core.display.Markdown object>"
      ]
     },
     "metadata": {},
     "output_type": "display_data"
    },
    {
     "data": {
      "text/markdown": [
       "$$3^2 + \\frac{5}{62} * e^{\\log(10) } = \\frac{304}{31} \\approx 9.806$$\n",
       "\n",
       "The weather in San Francisco: The National Weather Service forecast for the greater San Francisco Bay Area for Thursday calls for chances of rain throughout the day, with much heavier precipitation in the forecast next week.\n",
       "\n",
       "Image of a beautiful russian girl playing in snow: https://api.together.ai/imgproxy/EplSzLxZInjkEq6CHpSkbyZDgXqF__Y0S6t7Cq2gPIc/format:jpeg/aHR0cHM6Ly90b2dldGhlci1haS1iZmwtaW1hZ2VzLXByb2QuczMudXMtd2VzdC0yLmFtYXpvbmF3cy5jb20vaW1hZ2VzL2IxMWExNjBjOGYzZjZjODYxZjJhNWMxNTU4Zjg2N2Y4YjFkNGUxYTE5NmVkOTlhYjk2MTZjNzJmMDJlZWNjOGI_WC1BbXotQWxnb3JpdGhtPUFXUzQtSE1BQy1TSEEyNTYmWC1BbXotQ29udGVudC1TaGEyNTY9VU5TSUdORUQtUEFZTE9BRCZYLUFtei1DcmVkZW50aWFsPUFTSUFZV1pXNEhWQ0Y0R0ZLNkoyJTJGMjAyNTA1MjAlMkZ1cy13ZXN0LTIlMkZzMyUyRmF3czRfcmVxdWVzdCZYLUFtei1EYXRlPTIwMjUwNTIwVDExNTEzOFomWC1BbXotRXhwaXJlcz0zNjAwJlgtQW16LVNlY3VyaXR5LVRva2VuPUlRb0piM0pwWjJsdVgyVmpFT3olMkYlMkYlMkYlMkYlMkYlMkYlMkYlMkYlMkYlMkZ3RWFDWFZ6TFhkbGMzUXRNaUpITUV"
      ],
      "text/plain": [
       "<IPython.core.display.Markdown object>"
      ]
     },
     "metadata": {},
     "output_type": "display_data"
    },
    {
     "data": {
      "text/markdown": [
       "## End"
      ],
      "text/plain": [
       "<IPython.core.display.Markdown object>"
      ]
     },
     "metadata": {},
     "output_type": "display_data"
    }
   ],
   "source": [
    "import json\n",
    "from langchain.schema import HumanMessage, SystemMessage\n",
    "from IPython.display import display, Markdown, Image, HTML\n",
    "# You will also need to import `base64` and potentially `requests`, `BytesIO`\n",
    "# if you still plan to handle URL-based images from other tools.\n",
    "# Based on your tool, we only need base64 for the flux image.\n",
    "import base64\n",
    "\n",
    "def print_markdown(content):\n",
    "    display(Markdown(content))\n",
    "\n",
    "def print_step(step_name):\n",
    "    print_markdown(f\"## {step_name}\")\n",
    "\n",
    "def print_tool_call(tool_name, query):\n",
    "    print_markdown(f\"### Tool Called: {tool_name}\")\n",
    "    print_markdown(f\"**Query:** {query}\")\n",
    "\n",
    "def print_tool_output(message):\n",
    "    print_markdown(\"#### Tool Output:\")\n",
    "    # Check if the message is from your generate_flux_image tool\n",
    "    if message.name == 'generate_flux_image':\n",
    "        image_b64_string = message.content.strip() # Get the base64 string\n",
    "        if image_b64_string:\n",
    "            try:\n",
    "                # Decode the base64 string to bytes\n",
    "                image_data = base64.b64decode(image_b64_string)\n",
    "                # Display the image using IPython.display.Image\n",
    "                display(Image(data=image_data))\n",
    "                print_markdown(\"Image displayed successfully from base64 data.\")\n",
    "            except Exception as e:\n",
    "                print_markdown(f\"Error decoding or displaying image from base64: {e}\")\n",
    "                print_markdown(f\"Raw base64 content (first 100 chars): {image_b64_string[:100]}...\") # Print a snippet for debugging\n",
    "        else:\n",
    "            print_markdown(\"Image generation tool returned empty base64 data.\")\n",
    "    # You can keep or remove the logic for other image tools if you still use them\n",
    "    # elif message.name == 'generate_dalle_image' or message.name == 'generate_sdxl_image':\n",
    "    #     # Your existing logic for handling image URLs if needed\n",
    "    #     image_url = message.content.strip()\n",
    "    #     print(f\"Attempting to display image from URL: {image_url}\")\n",
    "    #     try:\n",
    "    #         response = requests.get(image_url)\n",
    "    #         response.raise_for_status()\n",
    "    #         content_type = response.headers.get('Content-Type', '')\n",
    "    #         if 'image' in content_type:\n",
    "    #             encoded_image = base64.b64encode(response.content).decode('utf-8')\n",
    "    #             display(Image(data=base64.b64decode(encoded_image)))\n",
    "    #         else:\n",
    "    #             print_markdown(f\"Tool returned non-image content: {response.text}\")\n",
    "    #     except requests.exceptions.RequestException as e:\n",
    "    #         print_markdown(f\"Failed to fetch image from URL: {e}\")\n",
    "    #         print_markdown(f\"Original URL provided: {image_url}\")\n",
    "    #         print_markdown(f\"Image URL: {image_url}\")\n",
    "    else:\n",
    "        # For all other tool outputs (like math, weather, python), print as Markdown\n",
    "        print_markdown(message.content)\n",
    "\n",
    "def print_final_message(message):\n",
    "    print_markdown(\"## Agent Message\")\n",
    "    print_markdown(message)\n",
    "\n",
    "print_markdown(\"# Agent Stream Output\")\n",
    "print_step(\"Initiating Agent Stream\")\n",
    "\n",
    "prompt = \"What is 3^2+5/62*e^log(10) return with $$ $$ for markdown, and whats the weather in sf, and can you make a winkie country landscape with flowers rivers, bridge, also can you execute helloworld in python\"\n",
    "\n",
    "chunks = []\n",
    "async for chunk in gemini_hulk.astream(\n",
    "    {\"messages\": [\n",
    "        HumanMessage(content=prompt),\n",
    "        \n",
    "    ]}\n",
    "):\n",
    "    chunks.append(chunk)\n",
    "    \n",
    "    if 'agent' in chunk:\n",
    "        for message in chunk['agent']['messages']:\n",
    "            if message.additional_kwargs.get('tool_calls'):\n",
    "                for tool_call in message.additional_kwargs['tool_calls']:\n",
    "                    tool_name = tool_call['function']['name']\n",
    "                    arguments = json.loads(tool_call['function']['arguments'])\n",
    "                    query = arguments.get('query') or arguments.get('prompt') or arguments.get('__arg1')\n",
    "                    print_tool_call(tool_name, query)\n",
    "    \n",
    "    if 'tools' in chunk:\n",
    "        for message in chunk['tools']['messages']:\n",
    "            print_tool_output(message)\n",
    "    \n",
    "    if 'agent' in chunk and chunk['agent']['messages'][0].content:\n",
    "        final_message = chunk['agent']['messages'][0].content.replace(')', ') ')  # Add space to parenthesis\n",
    "        \n",
    "        print_final_message(final_message)\n",
    "\n",
    "print_step(\"End\")"
   ]
  },
  {
   "cell_type": "code",
   "execution_count": null,
   "id": "993ae601",
   "metadata": {},
   "outputs": [],
   "source": []
  }
 ],
 "metadata": {
  "kernelspec": {
   "display_name": ".venv",
   "language": "python",
   "name": "python3"
  },
  "language_info": {
   "codemirror_mode": {
    "name": "ipython",
    "version": 3
   },
   "file_extension": ".py",
   "mimetype": "text/x-python",
   "name": "python",
   "nbconvert_exporter": "python",
   "pygments_lexer": "ipython3",
   "version": "3.11.4"
  }
 },
 "nbformat": 4,
 "nbformat_minor": 5
}
